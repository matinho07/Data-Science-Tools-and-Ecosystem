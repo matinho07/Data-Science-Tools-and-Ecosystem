{
 "cells": [
  {
   "cell_type": "markdown",
   "id": "5edaa9bb-403d-4bfc-8d20-396fc12d0f2a",
   "metadata": {},
   "source": [
    "# Data Science Tool and Ecosystem"
   ]
  },
  {
   "cell_type": "markdown",
   "id": "8fa0d6b1-901b-4e4d-bac7-dcae6f605f74",
   "metadata": {},
   "source": [
    "In this notebook, Data Science Tools and Ecosystem are summarized."
   ]
  },
  {
   "cell_type": "markdown",
   "id": "c51a2413-6cfb-4b31-a1ac-f0f7b41fb5c1",
   "metadata": {},
   "source": [
    "Objectives:\n",
    "- List popular Data Science languages\n",
    "- List Commonly used libraries\n",
    "- List examples of evaluating arithmetic expressions in Python"
   ]
  },
  {
   "cell_type": "markdown",
   "id": "001963ab-5152-48e8-b967-80cb44b78455",
   "metadata": {},
   "source": [
    "Some of the popular languages that Data Scientists use are:\n",
    "1. Python\n",
    "2. R\n",
    "3. SQL"
   ]
  },
  {
   "cell_type": "markdown",
   "id": "a32b084e-0175-4095-9361-3ccee6d4c47e",
   "metadata": {},
   "source": [
    "Some of the commonly used libraries used by Data Scientists include:\n",
    "1. NumPy\n",
    "2. Pandas\n",
    "3. Matplotlib"
   ]
  },
  {
   "cell_type": "markdown",
   "id": "1122f607-3a90-4c43-a3fa-f8c191c5c5fa",
   "metadata": {},
   "source": [
    "|Data Science Tools|\n",
    "|------------------|\n",
    "|Apache Spark|\n",
    "|Jupyter Notebook|\n",
    "|Julia|"
   ]
  },
  {
   "cell_type": "markdown",
   "id": "e743e59f-cc55-47c7-99b2-b8d79ecfbbf2",
   "metadata": {},
   "source": [
    "### Below are a few examples of evaluating arithmetic expressions in Python.\n",
    "\n"
   ]
  },
  {
   "cell_type": "code",
   "execution_count": 15,
   "id": "76ae6878-123d-47b3-abfe-9236a8ac1787",
   "metadata": {},
   "outputs": [
    {
     "data": {
      "text/plain": [
       "17"
      ]
     },
     "execution_count": 15,
     "metadata": {},
     "output_type": "execute_result"
    }
   ],
   "source": [
    "#This a simple arithmetic expression to mutiply then add integers\n",
    "(3*4)+5"
   ]
  },
  {
   "cell_type": "code",
   "execution_count": 25,
   "id": "de026e5a-8ce9-4648-8aa1-743024b8d6fc",
   "metadata": {},
   "outputs": [
    {
     "name": "stdout",
     "output_type": "stream",
     "text": [
      "200 minutes is 3.3333333333333335 hours\n"
     ]
    }
   ],
   "source": [
    "#This will convert 200 minutes to hours by diving by 60\n",
    "converted = 200/60\n",
    "print(\"200 minutes is\", converted, \"hours\")"
   ]
  },
  {
   "cell_type": "markdown",
   "id": "33009146-4eed-44f2-8762-3e5521208488",
   "metadata": {},
   "source": [
    "## Author\n",
    "Mateusz"
   ]
  },
  {
   "cell_type": "code",
   "execution_count": null,
   "id": "29653541-a42f-433b-be44-9c4da4fc20f8",
   "metadata": {},
   "outputs": [],
   "source": []
  }
 ],
 "metadata": {
  "kernelspec": {
   "display_name": "Python [conda env:base] *",
   "language": "python",
   "name": "conda-base-py"
  },
  "language_info": {
   "codemirror_mode": {
    "name": "ipython",
    "version": 3
   },
   "file_extension": ".py",
   "mimetype": "text/x-python",
   "name": "python",
   "nbconvert_exporter": "python",
   "pygments_lexer": "ipython3",
   "version": "3.12.7"
  }
 },
 "nbformat": 4,
 "nbformat_minor": 5
}
